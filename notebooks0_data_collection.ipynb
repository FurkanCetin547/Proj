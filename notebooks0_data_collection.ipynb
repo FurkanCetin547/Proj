{
 "cells": [
  {
   "cell_type": "markdown",
   "metadata": {},
   "source": [
    "# Data Collection Notebook"
   ]
  },
  {
   "cell_type": "code",
   "execution_count": null,
   "metadata": {},
   "outputs": [],
   "source": [
    "import pandas as pd\n",
    "from sklearn.datasets import load_files\n",
    "import os\n",
    "\n",
    "# Create data directory if it doesn't exist\n",
    "os.makedirs('../data/raw', exist_ok=True)\n",
    "os.makedirs('../data/processed', exist_ok=True)\n",
    "\n",
    "# Load Stanford Sentiment Analysis Dataset\n",
    "# Download from https://ai.stanford.edu/~amaas/data/sentiment/ first\n",
    "reviews = load_files('aclImdb/train')\n",
    "df = pd.DataFrame({'text': reviews.data, 'sentiment': reviews.target})\n",
    "df['sentiment'] = df['sentiment'].map({0: 'negative', 1: 'positive'})\n",
    "\n",
    "# Save raw data\n",
    "df.to_csv('../data/raw/stanford_reviews.csv', index=False)\n",
    "\n",
    "print(f\"Loaded {len(df)} reviews\")"
   ]
  }
 ]
}
