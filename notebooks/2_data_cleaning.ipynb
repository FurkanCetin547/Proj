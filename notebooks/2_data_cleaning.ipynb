{
 "cells": [
  {
   "cell_type": "markdown",
   "metadata": {},
   "source": [
    "# Data Cleaning Notebook"
   ]
  },
  {
   "cell_type": "code",
   "execution_count": null,
   "metadata": {},
   "outputs": [],
   "source": [
    "import pandas as pd\n",
    "import numpy as np\n",
    "from textblob import TextBlob\n",
    "import ast\n",
    "\n",
    "# Load data\n",
    "reviews = pd.read_csv('../data/raw/stanford_reviews.csv')\n",
    "\n",
    "# Basic text cleaning\n",
    "reviews['cleaned_text'] = reviews['text'].str.replace('<br />', ' ')\n",
    "reviews['cleaned_text'] = reviews['cleaned_text'].str.replace(r'[^\\w\\s]', '')\n",
    "\n",
    "# Sentiment analysis with TextBlob\n",
    "def get_sentiment(text):\n",
    "    analysis = TextBlob(str(text))\n",
    "    return analysis.sentiment.polarity\n",
    "\n",
    "reviews['sentiment_score'] = reviews['cleaned_text'].apply(get_sentiment)\n",
    "reviews['sentiment'] = pd.cut(reviews['sentiment_score'],\n",
    "                             bins=[-1, -0.1, 0.1, 1],\n",
    "                             labels=['negative', 'neutral', 'positive'])\n",
    "\n",
    "# Save processed data\n",
    "reviews.to_csv('../data/processed/cleaned_reviews.csv', index=False)\n",
    "\n",
    "print(\"Data cleaning complete. Saved cleaned data.\")"
   ]
  }
 ]
}
